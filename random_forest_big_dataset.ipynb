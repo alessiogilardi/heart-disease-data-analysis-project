{
 "cells": [
  {
   "cell_type": "code",
   "execution_count": 1,
   "metadata": {},
   "outputs": [],
   "source": [
    "#libraries\n",
    "import numpy as np\n",
    "import pandas as pd\n",
    "import matplotlib.pyplot as plt\n",
    "import seaborn as sns\n",
    "\n",
    "# warnings\n",
    "import warnings\n",
    "warnings.filterwarnings('ignore')\n",
    "pd.options.mode.chained_assignment = None  #hide any pandas warnings\n",
    "\n",
    "sns.set(style=\"whitegrid\", color_codes=True)"
   ]
  },
  {
   "cell_type": "code",
   "execution_count": 3,
   "metadata": {},
   "outputs": [],
   "source": [
    "# Read data\n",
    "file_name = 'heart.csv'\n",
    "ds = pd.read_csv(file_name)\n",
    "\n",
    "# Drop rows with thal equal to 0\n",
    "ds.drop(ds[ds['thal'] == 0].index, axis=0, inplace=True)"
   ]
  },
  {
   "cell_type": "code",
   "execution_count": 4,
   "metadata": {},
   "outputs": [],
   "source": [
    "# Columns rename\n",
    "ds.columns = ['age', 'sex', 'chest_pain_type', 'resting_blood_pressure', 'cholesterol', 'fasting_blood_sugar', 'rest_ecg', 'max_heart_rate_achieved',\n",
    "       'exercise_induced_angina', 'st_depression', 'st_slope', 'num_major_vessels', 'thalassemia', 'target']\n",
    "\n",
    "# Modifico i valori in modo da identificare con chiarezza le\n",
    "# feature categoriche\n",
    "ds['sex'][ds['sex'] == 0] = 'female'\n",
    "ds['sex'][ds['sex'] == 1] = 'male'\n",
    "\n",
    "ds['chest_pain_type'][ds['chest_pain_type'] == 0] = 'typical angina'\n",
    "ds['chest_pain_type'][ds['chest_pain_type'] == 1] = 'atypical angina'\n",
    "ds['chest_pain_type'][ds['chest_pain_type'] == 2] = 'non-anginal pain'\n",
    "ds['chest_pain_type'][ds['chest_pain_type'] == 3] = 'asymptomatic'\n",
    "\n",
    "ds['fasting_blood_sugar'][ds['fasting_blood_sugar'] == 0] = 'lower than 120mg/ml'\n",
    "ds['fasting_blood_sugar'][ds['fasting_blood_sugar'] == 1] = 'greater than 120mg/ml'\n",
    "\n",
    "ds['rest_ecg'][ds['rest_ecg'] == 0] = 'normal'\n",
    "ds['rest_ecg'][ds['rest_ecg'] == 1] = 'ST-T wave abnormality'\n",
    "ds['rest_ecg'][ds['rest_ecg'] == 2] = 'left ventricular hypertrophy'\n",
    "\n",
    "ds['exercise_induced_angina'][ds['exercise_induced_angina'] == 0] = 'no'\n",
    "ds['exercise_induced_angina'][ds['exercise_induced_angina'] == 1] = 'yes'\n",
    "\n",
    "ds['st_slope'][ds['st_slope'] == 0] = 'upsloping'\n",
    "ds['st_slope'][ds['st_slope'] == 1] = 'flat'\n",
    "ds['st_slope'][ds['st_slope'] == 2] = 'downsloping'\n",
    "\n",
    "ds['thalassemia'][ds['thalassemia'] == 1] = 'normal'\n",
    "ds['thalassemia'][ds['thalassemia'] == 2] = 'fixed defect'\n",
    "ds['thalassemia'][ds['thalassemia'] == 3] = 'reversable defect'\n",
    "\n",
    "\n",
    "# Converto i tipi in modo corretto\n",
    "\n",
    "ds['sex'] = ds['sex'].astype('object')\n",
    "ds['chest_pain_type'] = ds['chest_pain_type'].astype('object')\n",
    "ds['fasting_blood_sugar'] = ds['fasting_blood_sugar'].astype('object')\n",
    "ds['rest_ecg'] = ds['rest_ecg'].astype('object')\n",
    "ds['exercise_induced_angina'] = ds['exercise_induced_angina'].astype('object')\n",
    "ds['st_slope'] = ds['st_slope'].astype('object')\n",
    "ds['thalassemia'] = ds['thalassemia'].astype('object')"
   ]
  },
  {
   "cell_type": "code",
   "execution_count": 5,
   "metadata": {},
   "outputs": [],
   "source": [
    "# Dummy features\n",
    "ds = pd.get_dummies(ds, drop_first=True)"
   ]
  },
  {
   "cell_type": "code",
   "execution_count": null,
   "metadata": {},
   "outputs": [],
   "source": []
  }
 ],
 "metadata": {
  "kernelspec": {
   "display_name": "Python 3",
   "language": "python",
   "name": "python3"
  },
  "language_info": {
   "codemirror_mode": {
    "name": "ipython",
    "version": 3
   },
   "file_extension": ".py",
   "mimetype": "text/x-python",
   "name": "python",
   "nbconvert_exporter": "python",
   "pygments_lexer": "ipython3",
   "version": "3.7.1"
  }
 },
 "nbformat": 4,
 "nbformat_minor": 2
}
