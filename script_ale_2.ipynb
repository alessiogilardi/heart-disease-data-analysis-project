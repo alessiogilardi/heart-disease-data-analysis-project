{
 "cells": [
  {
   "cell_type": "markdown",
   "metadata": {},
   "source": [
    "## Per i dati medici le dispense consigliano un decision tree perchè mostra come arriva alla decisione"
   ]
  },
  {
   "cell_type": "code",
   "execution_count": 20,
   "metadata": {},
   "outputs": [],
   "source": [
    "## Import libraries\n",
    "import pandas as pd\n",
    "import numpy as np\n",
    "import seaborn as sns\n",
    "import matplotlib.pyplot as plt\n",
    "from sklearn import preprocessing\n",
    "from sklearn.ensemble import RandomForestClassifier #for the model\n",
    "from sklearn.tree import DecisionTreeClassifier\n",
    "from sklearn.tree import export_graphviz #plot tree\n",
    "from sklearn.metrics import roc_curve, auc #for model evaluation\n",
    "from sklearn.metrics import classification_report #for model evaluation\n",
    "from sklearn.metrics import confusion_matrix #for model evaluation\n",
    "from sklearn.model_selection import train_test_split #for data splitting\n",
    "from sklearn.svm import SVC\n",
    "np.random.seed(123) #ensure reproducibility\n",
    "\n",
    "pd.options.mode.chained_assignment = None  #hide any pandas warnings\n",
    "\n",
    "sns.set(style=\"whitegrid\", color_codes=True)\n",
    "\n",
    "# Read dataset\n",
    "csv = 'heart.csv'\n",
    "ds = pd.read_csv(csv)\n",
    "\n",
    "# Columns rename\n",
    "ds.columns = ['age', 'sex', 'chest_pain_type', 'resting_blood_pressure', 'cholesterol', 'fasting_blood_sugar', 'rest_ecg', 'max_heart_rate_achieved',\n",
    "       'exercise_induced_angina', 'st_depression', 'st_slope', 'num_major_vessels', 'thalassemia', 'target']"
   ]
  },
  {
   "cell_type": "code",
   "execution_count": 21,
   "metadata": {},
   "outputs": [],
   "source": [
    "# Modifico i valori in modo da identificare con chiarezza le\n",
    "# feature categoriche\n",
    "ds['sex'][ds['sex'] == 0] = 'female'\n",
    "ds['sex'][ds['sex'] == 1] = 'male'\n",
    "\n",
    "ds['chest_pain_type'][ds['chest_pain_type'] == 1] = 'typical angina'\n",
    "ds['chest_pain_type'][ds['chest_pain_type'] == 2] = 'atypical angina'\n",
    "ds['chest_pain_type'][ds['chest_pain_type'] == 3] = 'non-anginal pain'\n",
    "ds['chest_pain_type'][ds['chest_pain_type'] == 4] = 'asymptomatic'\n",
    "\n",
    "ds['fasting_blood_sugar'][ds['fasting_blood_sugar'] == 0] = 'lower than 120mg/ml'\n",
    "ds['fasting_blood_sugar'][ds['fasting_blood_sugar'] == 1] = 'greater than 120mg/ml'\n",
    "\n",
    "ds['rest_ecg'][ds['rest_ecg'] == 0] = 'normal'\n",
    "ds['rest_ecg'][ds['rest_ecg'] == 1] = 'ST-T wave abnormality'\n",
    "ds['rest_ecg'][ds['rest_ecg'] == 2] = 'left ventricular hypertrophy'\n",
    "\n",
    "ds['exercise_induced_angina'][ds['exercise_induced_angina'] == 0] = 'no'\n",
    "ds['exercise_induced_angina'][ds['exercise_induced_angina'] == 1] = 'yes'\n",
    "\n",
    "ds['st_slope'][ds['st_slope'] == 1] = 'upsloping'\n",
    "ds['st_slope'][ds['st_slope'] == 2] = 'flat'\n",
    "ds['st_slope'][ds['st_slope'] == 3] = 'downsloping'\n",
    "\n",
    "ds['thalassemia'][ds['thalassemia'] == 1] = 'normal'\n",
    "ds['thalassemia'][ds['thalassemia'] == 2] = 'fixed defect'\n",
    "ds['thalassemia'][ds['thalassemia'] == 3] = 'reversable defect'\n",
    "\n",
    "\n",
    "# Converto i tipi in modo corretto\n",
    "\n",
    "ds['sex'] = ds['sex'].astype('object')\n",
    "ds['chest_pain_type'] = ds['chest_pain_type'].astype('object')\n",
    "ds['fasting_blood_sugar'] = ds['fasting_blood_sugar'].astype('object')\n",
    "ds['rest_ecg'] = ds['rest_ecg'].astype('object')\n",
    "ds['exercise_induced_angina'] = ds['exercise_induced_angina'].astype('object')\n",
    "ds['st_slope'] = ds['st_slope'].astype('object')\n",
    "ds['thalassemia'] = ds['thalassemia'].astype('object')"
   ]
  },
  {
   "cell_type": "code",
   "execution_count": 22,
   "metadata": {},
   "outputs": [],
   "source": [
    "# Dummy features\n",
    "ds = pd.get_dummies(ds)"
   ]
  },
  {
   "cell_type": "code",
   "execution_count": 45,
   "metadata": {},
   "outputs": [
    {
     "data": {
      "text/html": [
       "<div>\n",
       "<style scoped>\n",
       "    .dataframe tbody tr th:only-of-type {\n",
       "        vertical-align: middle;\n",
       "    }\n",
       "\n",
       "    .dataframe tbody tr th {\n",
       "        vertical-align: top;\n",
       "    }\n",
       "\n",
       "    .dataframe thead th {\n",
       "        text-align: right;\n",
       "    }\n",
       "</style>\n",
       "<table border=\"1\" class=\"dataframe\">\n",
       "  <thead>\n",
       "    <tr style=\"text-align: right;\">\n",
       "      <th></th>\n",
       "      <th>age</th>\n",
       "      <th>sex</th>\n",
       "      <th>chest_pain_type</th>\n",
       "      <th>resting_blood_pressure</th>\n",
       "      <th>cholesterol</th>\n",
       "      <th>fasting_blood_sugar</th>\n",
       "      <th>rest_ecg</th>\n",
       "      <th>max_heart_rate_achieved</th>\n",
       "      <th>exercise_induced_angina</th>\n",
       "      <th>st_depression</th>\n",
       "      <th>st_slope</th>\n",
       "      <th>num_major_vessels</th>\n",
       "      <th>thalassemia</th>\n",
       "      <th>target</th>\n",
       "    </tr>\n",
       "  </thead>\n",
       "  <tbody>\n",
       "    <tr>\n",
       "      <th>count</th>\n",
       "      <td>303.000000</td>\n",
       "      <td>303.000000</td>\n",
       "      <td>303.000000</td>\n",
       "      <td>303.000000</td>\n",
       "      <td>303.000000</td>\n",
       "      <td>303.000000</td>\n",
       "      <td>303.000000</td>\n",
       "      <td>303.000000</td>\n",
       "      <td>303.000000</td>\n",
       "      <td>303.000000</td>\n",
       "      <td>303.000000</td>\n",
       "      <td>303.000000</td>\n",
       "      <td>303.000000</td>\n",
       "      <td>303.000000</td>\n",
       "    </tr>\n",
       "    <tr>\n",
       "      <th>mean</th>\n",
       "      <td>54.366337</td>\n",
       "      <td>0.683168</td>\n",
       "      <td>0.966997</td>\n",
       "      <td>131.623762</td>\n",
       "      <td>246.264026</td>\n",
       "      <td>0.148515</td>\n",
       "      <td>0.528053</td>\n",
       "      <td>149.646865</td>\n",
       "      <td>0.326733</td>\n",
       "      <td>1.039604</td>\n",
       "      <td>1.399340</td>\n",
       "      <td>0.729373</td>\n",
       "      <td>2.313531</td>\n",
       "      <td>0.544554</td>\n",
       "    </tr>\n",
       "    <tr>\n",
       "      <th>std</th>\n",
       "      <td>9.082101</td>\n",
       "      <td>0.466011</td>\n",
       "      <td>1.032052</td>\n",
       "      <td>17.538143</td>\n",
       "      <td>51.830751</td>\n",
       "      <td>0.356198</td>\n",
       "      <td>0.525860</td>\n",
       "      <td>22.905161</td>\n",
       "      <td>0.469794</td>\n",
       "      <td>1.161075</td>\n",
       "      <td>0.616226</td>\n",
       "      <td>1.022606</td>\n",
       "      <td>0.612277</td>\n",
       "      <td>0.498835</td>\n",
       "    </tr>\n",
       "    <tr>\n",
       "      <th>min</th>\n",
       "      <td>29.000000</td>\n",
       "      <td>0.000000</td>\n",
       "      <td>0.000000</td>\n",
       "      <td>94.000000</td>\n",
       "      <td>126.000000</td>\n",
       "      <td>0.000000</td>\n",
       "      <td>0.000000</td>\n",
       "      <td>71.000000</td>\n",
       "      <td>0.000000</td>\n",
       "      <td>0.000000</td>\n",
       "      <td>0.000000</td>\n",
       "      <td>0.000000</td>\n",
       "      <td>0.000000</td>\n",
       "      <td>0.000000</td>\n",
       "    </tr>\n",
       "    <tr>\n",
       "      <th>25%</th>\n",
       "      <td>47.500000</td>\n",
       "      <td>0.000000</td>\n",
       "      <td>0.000000</td>\n",
       "      <td>120.000000</td>\n",
       "      <td>211.000000</td>\n",
       "      <td>0.000000</td>\n",
       "      <td>0.000000</td>\n",
       "      <td>133.500000</td>\n",
       "      <td>0.000000</td>\n",
       "      <td>0.000000</td>\n",
       "      <td>1.000000</td>\n",
       "      <td>0.000000</td>\n",
       "      <td>2.000000</td>\n",
       "      <td>0.000000</td>\n",
       "    </tr>\n",
       "    <tr>\n",
       "      <th>50%</th>\n",
       "      <td>55.000000</td>\n",
       "      <td>1.000000</td>\n",
       "      <td>1.000000</td>\n",
       "      <td>130.000000</td>\n",
       "      <td>240.000000</td>\n",
       "      <td>0.000000</td>\n",
       "      <td>1.000000</td>\n",
       "      <td>153.000000</td>\n",
       "      <td>0.000000</td>\n",
       "      <td>0.800000</td>\n",
       "      <td>1.000000</td>\n",
       "      <td>0.000000</td>\n",
       "      <td>2.000000</td>\n",
       "      <td>1.000000</td>\n",
       "    </tr>\n",
       "    <tr>\n",
       "      <th>75%</th>\n",
       "      <td>61.000000</td>\n",
       "      <td>1.000000</td>\n",
       "      <td>2.000000</td>\n",
       "      <td>140.000000</td>\n",
       "      <td>274.500000</td>\n",
       "      <td>0.000000</td>\n",
       "      <td>1.000000</td>\n",
       "      <td>166.000000</td>\n",
       "      <td>1.000000</td>\n",
       "      <td>1.600000</td>\n",
       "      <td>2.000000</td>\n",
       "      <td>1.000000</td>\n",
       "      <td>3.000000</td>\n",
       "      <td>1.000000</td>\n",
       "    </tr>\n",
       "    <tr>\n",
       "      <th>max</th>\n",
       "      <td>77.000000</td>\n",
       "      <td>1.000000</td>\n",
       "      <td>3.000000</td>\n",
       "      <td>200.000000</td>\n",
       "      <td>564.000000</td>\n",
       "      <td>1.000000</td>\n",
       "      <td>2.000000</td>\n",
       "      <td>202.000000</td>\n",
       "      <td>1.000000</td>\n",
       "      <td>6.200000</td>\n",
       "      <td>2.000000</td>\n",
       "      <td>4.000000</td>\n",
       "      <td>3.000000</td>\n",
       "      <td>1.000000</td>\n",
       "    </tr>\n",
       "  </tbody>\n",
       "</table>\n",
       "</div>"
      ],
      "text/plain": [
       "              age         sex  chest_pain_type  resting_blood_pressure  \\\n",
       "count  303.000000  303.000000       303.000000              303.000000   \n",
       "mean    54.366337    0.683168         0.966997              131.623762   \n",
       "std      9.082101    0.466011         1.032052               17.538143   \n",
       "min     29.000000    0.000000         0.000000               94.000000   \n",
       "25%     47.500000    0.000000         0.000000              120.000000   \n",
       "50%     55.000000    1.000000         1.000000              130.000000   \n",
       "75%     61.000000    1.000000         2.000000              140.000000   \n",
       "max     77.000000    1.000000         3.000000              200.000000   \n",
       "\n",
       "       cholesterol  fasting_blood_sugar    rest_ecg  max_heart_rate_achieved  \\\n",
       "count   303.000000           303.000000  303.000000               303.000000   \n",
       "mean    246.264026             0.148515    0.528053               149.646865   \n",
       "std      51.830751             0.356198    0.525860                22.905161   \n",
       "min     126.000000             0.000000    0.000000                71.000000   \n",
       "25%     211.000000             0.000000    0.000000               133.500000   \n",
       "50%     240.000000             0.000000    1.000000               153.000000   \n",
       "75%     274.500000             0.000000    1.000000               166.000000   \n",
       "max     564.000000             1.000000    2.000000               202.000000   \n",
       "\n",
       "       exercise_induced_angina  st_depression    st_slope  num_major_vessels  \\\n",
       "count               303.000000     303.000000  303.000000         303.000000   \n",
       "mean                  0.326733       1.039604    1.399340           0.729373   \n",
       "std                   0.469794       1.161075    0.616226           1.022606   \n",
       "min                   0.000000       0.000000    0.000000           0.000000   \n",
       "25%                   0.000000       0.000000    1.000000           0.000000   \n",
       "50%                   0.000000       0.800000    1.000000           0.000000   \n",
       "75%                   1.000000       1.600000    2.000000           1.000000   \n",
       "max                   1.000000       6.200000    2.000000           4.000000   \n",
       "\n",
       "       thalassemia      target  \n",
       "count   303.000000  303.000000  \n",
       "mean      2.313531    0.544554  \n",
       "std       0.612277    0.498835  \n",
       "min       0.000000    0.000000  \n",
       "25%       2.000000    0.000000  \n",
       "50%       2.000000    1.000000  \n",
       "75%       3.000000    1.000000  \n",
       "max       3.000000    1.000000  "
      ]
     },
     "execution_count": 45,
     "metadata": {},
     "output_type": "execute_result"
    }
   ],
   "source": [
    "ds.describe()"
   ]
  },
  {
   "cell_type": "code",
   "execution_count": 12,
   "metadata": {},
   "outputs": [
    {
     "data": {
      "image/png": "[encoded data removed]",
      "text/plain": [
       "<Figure size 720x720 with 2 Axes>"
      ]
     },
     "metadata": {},
     "output_type": "display_data"
    }
   ],
   "source": [
    "## Mappa di correlazione\n",
    "\n",
    "# DOMANDA1: Uso correlazione di Pearson => -1 correlazione inversa, +1 correlazione diretta, 0 no correlazione\n",
    "#           Può essere il caso di considerarla in valore assoluto per escludere alcune feature?\n",
    "\n",
    "# DOMANDA2: E' corretto considerare la solo correlazione con 'target' allo scopo di ridurre le features\n",
    "\n",
    "corr = 100*abs(ds.corr(method='pearson'))\n",
    "mask = np.zeros_like(corr)\n",
    "mask[np.triu_indices_from(mask)] = True\n",
    "plt.figure(figsize=(10,10))\n",
    "sns.heatmap(corr, vmax=100, center=0, square=True, linewidth=.5, cbar_kws={'shrink': .5}, annot=True, mask=mask, cmap=\"YlGnBu\")\n",
    "plt.tight_layout()\n",
    "plt.show()"
   ]
  },
  {
   "cell_type": "code",
   "execution_count": 15,
   "metadata": {},
   "outputs": [
    {
     "data": {
      "text/plain": [
       "<matplotlib.axes._subplots.AxesSubplot at 0x1ca44629eb8>"
      ]
     },
     "execution_count": 15,
     "metadata": {},
     "output_type": "execute_result"
    },
    {
     "data": {
      "image/png": "[encoded data removed]",
      "text/plain": [
       "<Figure size 432x288 with 1 Axes>"
      ]
     },
     "metadata": {},
     "output_type": "display_data"
    }
   ],
   "source": [
    "sns.countplot(x=ds['st_depression'])"
   ]
  },
  {
   "cell_type": "code",
   "execution_count": 24,
   "metadata": {},
   "outputs": [
    {
     "name": "stdout",
     "output_type": "stream",
     "text": [
      "DT Algorithm Accuracy Score : 75.41%\n"
     ]
    }
   ],
   "source": [
    "from sklearn import tree\n",
    "X = ds.drop(['target'], axis=1) # X -> data\n",
    "Y = ds['target'] # Y -> values to predict\n",
    "X_train, X_test, Y_train, Y_test = train_test_split(X, Y, test_size = .2, random_state=0)\n",
    "clf = tree.DecisionTreeClassifier()\n",
    "clf = clf.fit(X_train, Y_train)\n",
    "print(\"DT Algorithm Accuracy Score : {:.2f}%\".format(clf.score(X_test,Y_test)*100))"
   ]
  },
  {
   "cell_type": "code",
   "execution_count": 25,
   "metadata": {},
   "outputs": [
    {
     "data": {
      "text/plain": [
       "DecisionTreeClassifier(class_weight=None, criterion='gini', max_depth=None,\n",
       "            max_features=None, max_leaf_nodes=None,\n",
       "            min_impurity_decrease=0.0, min_impurity_split=None,\n",
       "            min_samples_leaf=1, min_samples_split=2,\n",
       "            min_weight_fraction_leaf=0.0, presort=False, random_state=None,\n",
       "            splitter='best')"
      ]
     },
     "execution_count": 25,
     "metadata": {},
     "output_type": "execute_result"
    }
   ],
   "source": [
    "clf"
   ]
  },
  {
   "cell_type": "code",
   "execution_count": null,
   "metadata": {},
   "outputs": [],
   "source": []
  }
 ],
 "metadata": {
  "kernelspec": {
   "display_name": "Python 3",
   "language": "python",
   "name": "python3"
  },
  "language_info": {
   "codemirror_mode": {
    "name": "ipython",
    "version": 3
   },
   "file_extension": ".py",
   "mimetype": "text/x-python",
   "name": "python",
   "nbconvert_exporter": "python",
   "pygments_lexer": "ipython3",
   "version": "3.7.1"
  }
 },
 "nbformat": 4,
 "nbformat_minor": 2
}
